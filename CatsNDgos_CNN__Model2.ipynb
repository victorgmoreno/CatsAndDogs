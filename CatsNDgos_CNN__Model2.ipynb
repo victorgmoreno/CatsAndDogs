{
  "cells": [
    {
      "cell_type": "markdown",
      "metadata": {
        "id": "view-in-github",
        "colab_type": "text"
      },
      "source": [
        "<a href=\"https://colab.research.google.com/github/victorgmoreno/CatsAndDogs/blob/main/CatsNDgos_CNN__Model2.ipynb\" target=\"_parent\"><img src=\"https://colab.research.google.com/assets/colab-badge.svg\" alt=\"Open In Colab\"/></a>"
      ]
    },
    {
      "cell_type": "markdown",
      "metadata": {
        "id": "yk70WgDr8tah"
      },
      "source": [
        "# **1. Importando as bibliotecas e pacotes que serão usadas no projeto**"
      ]
    },
    {
      "cell_type": "code",
      "execution_count": null,
      "metadata": {
        "id": "n5IPcZlO5Lc9"
      },
      "outputs": [],
      "source": [
        "# Importando as bibliotecas necessárias para dados, processamento e machine learning\n",
        "#  !pip install sklearn\n",
        "#  !pip install np_utils\n",
        "#  !pip install tensorflow as tf\n",
        "\n",
        "import os, cv2, itertools #\n",
        "import numpy as np \n",
        "import pandas as pd \n",
        "import tensorflow as tf\n",
        "import matplotlib.pyplot as plt \n",
        "import sklearn\n",
        "%matplotlib inline\n",
        "\n",
        "from tensorflow.keras.utils import Sequence\n",
        "from sklearn.model_selection import train_test_split\n",
        "from tensorflow.python.keras.utils.vis_utils import plot_model\n",
        "from keras.utils.np_utils import to_categorical\n",
        "from keras.models import Sequential\n",
        "from keras.layers import Conv2D\n",
        "from keras.layers import MaxPooling2D\n",
        "from keras.layers import Flatten\n",
        "from keras.layers import Dense\n",
        "from keras.layers import Dropout\n",
        "from sklearn.utils import shuffle\n",
        "from sklearn.model_selection import train_test_split"
      ]
    },
    {
      "cell_type": "markdown",
      "metadata": {
        "id": "jt-BxIKP-1Zt"
      },
      "source": [
        ""
      ]
    },
    {
      "cell_type": "markdown",
      "metadata": {
        "id": "fnHKucCR9uAP"
      },
      "source": [
        "# **2. Fazendo download dos arquviso do dataset**"
      ]
    },
    {
      "cell_type": "code",
      "execution_count": null,
      "metadata": {
        "id": "u3nWSYi09xcK"
      },
      "outputs": [],
      "source": [
        "# Procedimento para extração do dataset que está no kaggle\n",
        "\n",
        "! pip install kaggle\n",
        "! mkdir ~/.kaggle\n",
        "! cp kaggle.json ~/.kaggle/\n",
        "! chmod 600 ~/.kaggle/kaggle.json\n",
        "\n",
        "# Acessando a URL do kaggle para download\n",
        "! kaggle datasets download -d zippyz/cats-and-dogs-breeds-classification-oxford-dataset\n",
        "\n",
        "# Descompactando o dataset\n",
        "! unzip cats-and-dogs-breeds-classification-oxford-dataset"
      ]
    },
    {
      "cell_type": "markdown",
      "metadata": {
        "id": "N7eNxyeV-L3C"
      },
      "source": [
        "# **3. Organizando os dados**"
      ]
    },
    {
      "cell_type": "code",
      "execution_count": null,
      "metadata": {
        "colab": {
          "base_uri": "https://localhost:8080/"
        },
        "id": "dB11zPNf-OCN",
        "outputId": "ac2a1050-9006-410f-f71e-dda41516a9ef"
      },
      "outputs": [
        {
          "output_type": "stream",
          "name": "stdout",
          "text": [
            "A quantidade de diretórios de imagens acessados é: 7390\n"
          ]
        }
      ],
      "source": [
        "# Transformando os diretorios de cada imagem em uma lista de diretorios\n",
        "\n",
        "imageDiretorio = os.listdir('/content/images/images')\n",
        "\n",
        "# Alguns arquivos no dataset não estão no formato JPG, para sanar isso:\n",
        "\n",
        "\n",
        "imageDiretorio = ([image for image in imageDiretorio if image.split('.')[-1] == 'jpg'])\n",
        "\n",
        "print(\"A quantidade de diretórios de imagens acessados é:\", len(imageDiretorio))\n",
        "\n",
        "# Para começar a organizar os dados, precisa-se criar algumas variáveis globais\n",
        "\n",
        "canais = 3\n",
        "linhas = 150\n",
        "colunas = 150\n",
        "size = (linhas, colunas)"
      ]
    },
    {
      "cell_type": "code",
      "execution_count": null,
      "metadata": {
        "id": "DwFUdM3uBNNh"
      },
      "outputs": [],
      "source": [
        "print(imageDiretorio)"
      ]
    },
    {
      "cell_type": "code",
      "execution_count": null,
      "metadata": {
        "id": "qLCPSKr8BEDr"
      },
      "outputs": [],
      "source": [
        "# imageDiretorio = shuffle(imageDiretorio)"
      ]
    },
    {
      "cell_type": "code",
      "execution_count": null,
      "metadata": {
        "id": "rjfOcKNgBRAi"
      },
      "outputs": [],
      "source": [
        "# print(imageDiretorio)"
      ]
    },
    {
      "cell_type": "code",
      "execution_count": null,
      "metadata": {
        "id": "ovFv4syp-qah"
      },
      "outputs": [],
      "source": [
        "# Agora, separaremos as imagens de gatos e de cachorros para a máquina\n",
        "gatosDiretorio = []\n",
        "cachorrosDiretorio = []\n",
        "\n",
        "for i in range(0, len(imageDiretorio)):\n",
        "  if imageDiretorio[i][0].isupper():\n",
        "    gatosDiretorio.append(imageDiretorio[i])\n",
        "  else:\n",
        "    cachorrosDiretorio.append(imageDiretorio[i])"
      ]
    },
    {
      "cell_type": "code",
      "execution_count": null,
      "metadata": {
        "id": "2BmaD6Bk-tGC"
      },
      "outputs": [],
      "source": [
        "ygatos = np.zeros(len(gatosDiretorio), dtype=int)\n",
        "ycachorros = np.ones(len(cachorrosDiretorio), dtype=int)\n",
        "X_train = gatosDiretorio+cachorrosDiretorio\n",
        "Y_train = np.concatenate((ygatos, ycachorros))\n",
        "# GATOS = 0 E CACHORRO = 1"
      ]
    },
    {
      "cell_type": "markdown",
      "metadata": {
        "id": "eGOxRZRKBG54"
      },
      "source": [
        "# **4. Pré processamento**"
      ]
    },
    {
      "cell_type": "code",
      "execution_count": null,
      "metadata": {
        "id": "SIbvHk4s-u2j"
      },
      "outputs": [],
      "source": [
        "# Criando uma função para visualizar as imagens, quando quisermos\n",
        "# ! pip install Pillow\n",
        "\n",
        "import cv2\n",
        "import matplotlib.pyplot as plt\n",
        "import PIL.Image\n",
        "\n",
        "def read_image(file_path):\n",
        "  rgba_image = PIL.Image.open(\"/content/images/images/\" + file_path)\n",
        "  rgb_image = rgba_image.convert('RGB')\n",
        "  rgb_image = np.array(rgb_image)\n",
        "  return cv2.resize(rgb_image, size, interpolation=cv2.INTER_CUBIC)"
      ]
    },
    {
      "cell_type": "code",
      "execution_count": null,
      "metadata": {
        "id": "tjlQP7S2DtKZ"
      },
      "outputs": [],
      "source": [
        "def prep_data(images):\n",
        "  m = len(images)\n",
        "  n_x = linhas*colunas*canais\n",
        "  \n",
        "\n",
        "  X = np.ndarray((m, linhas, colunas, canais), dtype=np.uint8)\n",
        "  y = np.zeros((m,1))\n",
        "  print(\"X.shape is {}\".format(X.shape))\n",
        "  \n",
        "  for i,image_file in enumerate(images) :\n",
        "    image = read_image(image_file)\n",
        "    X[i,:] = np.squeeze(image.reshape((linhas, colunas, canais)))\n",
        "    if imageDiretorio[i][0].isupper():\n",
        "      y[i,0] = 0  # cat\n",
        "    else:\n",
        "      y[i,0] = 1  # dog\n",
        "    \n",
        "  return X,y"
      ]
    },
    {
      "cell_type": "code",
      "execution_count": null,
      "metadata": {
        "colab": {
          "base_uri": "https://localhost:8080/"
        },
        "id": "j1Gf6fb-J7Is",
        "outputId": "55a3d452-1104-4341-9208-cf2adb2865b1"
      },
      "outputs": [
        {
          "output_type": "stream",
          "name": "stdout",
          "text": [
            "X.shape is (7390, 150, 150, 3)\n"
          ]
        }
      ],
      "source": [
        "\n",
        "X_train, y_train = prep_data(imageDiretorio)"
      ]
    },
    {
      "cell_type": "code",
      "execution_count": null,
      "metadata": {
        "id": "djY10hRdt5wJ"
      },
      "outputs": [],
      "source": [
        "# Separando os arquivos para treino. Ele totaliza 80% das imagens.\n",
        "X_train, X_test, y_train, test_idx = train_test_split(X_train, y_train, test_size = 0.2, random_state = 1)  #80% of dataset will be used for training"
      ]
    },
    {
      "cell_type": "code",
      "execution_count": null,
      "metadata": {
        "id": "fMTFW4_q_odU"
      },
      "outputs": [],
      "source": [
        "# Separando os arquivos para teste e validação. Eles totalizam 20% das imagens, 10% cada um. \n",
        "X_test, X_val, y_test, y_val = train_test_split(X_test, test_idx , test_size = 0.5, random_state = 1)  #42% of dataset will be used for test and validation"
      ]
    },
    {
      "cell_type": "code",
      "execution_count": null,
      "metadata": {
        "colab": {
          "base_uri": "https://localhost:8080/"
        },
        "id": "nTi8nvF3vv8t",
        "outputId": "05a0e93f-de39-4308-fab9-ab622fc33d27"
      },
      "outputs": [
        {
          "output_type": "stream",
          "name": "stdout",
          "text": [
            "5912\n",
            "X_train.shape is (5912, 150, 150, 3)\n",
            "5912\n",
            "y_train.shape is (5912, 1)\n",
            "739\n",
            "X_test.shape is (739, 150, 150, 3)\n",
            "739\n",
            "y_test.shape is (739, 1)\n",
            "739\n",
            "X_val.shape is (739, 150, 150, 3)\n",
            "739\n",
            "y_val.shape is (739, 1)\n"
          ]
        }
      ],
      "source": [
        "print(len(X_train))\n",
        "print(\"X_train.shape is {}\".format(X_train.shape))\n",
        "print(len(y_train))\n",
        "print(\"y_train.shape is {}\".format(y_train.shape))\n",
        "\n",
        "print(len(X_test))\n",
        "print(\"X_test.shape is {}\".format(X_test.shape))\n",
        "print(len(y_test))\n",
        "print(\"y_test.shape is {}\".format(y_test.shape))\n",
        "\n",
        "print(len(X_val))\n",
        "print(\"X_val.shape is {}\".format(X_val.shape))\n",
        "print(len(y_val))\n",
        "print(\"y_val.shape is {}\".format(y_val.shape))\n"
      ]
    },
    {
      "cell_type": "code",
      "execution_count": null,
      "metadata": {
        "id": "CaEeFqkFBwv3"
      },
      "outputs": [],
      "source": [
        "classes = {0: 'gatos',\n",
        "           1: 'cachorros'}"
      ]
    },
    {
      "cell_type": "code",
      "execution_count": null,
      "metadata": {
        "colab": {
          "base_uri": "https://localhost:8080/"
        },
        "id": "YorQ_kjuB64L",
        "outputId": "b883185d-ef00-4451-fbda-c6fb717aaa3e"
      },
      "outputs": [
        {
          "output_type": "stream",
          "name": "stdout",
          "text": [
            "(5912, 2)\n",
            "2\n",
            "(739, 2)\n"
          ]
        }
      ],
      "source": [
        "y_train_one_hot = to_categorical(y_train)\n",
        "print(y_train_one_hot.shape)\n",
        "\n",
        "num_classes = y_train_one_hot.shape[1]\n",
        "print(num_classes)\n",
        "\n",
        "y_val_one_hot = to_categorical(y_val)\n",
        "print(y_val_one_hot.shape)"
      ]
    },
    {
      "cell_type": "code",
      "execution_count": null,
      "metadata": {
        "id": "AWK3-3qUCLNG"
      },
      "outputs": [],
      "source": [
        "def show_images(X, y, idx) :\n",
        "  image = X[idx]\n",
        "  #image = image.reshape((ROWS, COLS, CHANNELS))\n",
        "  plt.figure(figsize=(4,2))\n",
        "  plt.imshow(image)\n",
        "  plt.title(\"This is a {}\".format(classes[y[idx,0]]))\n",
        "  plt.show()"
      ]
    },
    {
      "cell_type": "code",
      "execution_count": null,
      "metadata": {
        "colab": {
          "base_uri": "https://localhost:8080/",
          "height": 173
        },
        "id": "UELMOCHjCOcP",
        "outputId": "c066312d-9695-40b3-d4d5-59c318d370de"
      },
      "outputs": [
        {
          "output_type": "display_data",
          "data": {
            "image/png": "[encoded data removed]",
            "text/plain": [
              "<Figure size 288x144 with 1 Axes>"
            ]
          },
          "metadata": {
            "needs_background": "light"
          }
        }
      ],
      "source": [
        "show_images(X_train, y_train, 545)"
      ]
    },
    {
      "cell_type": "code",
      "execution_count": null,
      "metadata": {
        "id": "ZBnz6tKhCZTg"
      },
      "outputs": [],
      "source": [
        "X_train_norm = X_train / 255\n",
        "X_val_norm = X_val / 255"
      ]
    },
    {
      "cell_type": "code",
      "execution_count": null,
      "metadata": {
        "colab": {
          "base_uri": "https://localhost:8080/"
        },
        "id": "tXzYBLa0Cao0",
        "outputId": "52c05f92-a80b-4824-ed59-ad1863020a02"
      },
      "outputs": [
        {
          "output_type": "stream",
          "name": "stdout",
          "text": [
            "Model: \"sequential\"\n",
            "_________________________________________________________________\n",
            " Layer (type)                Output Shape              Param #   \n",
            "=================================================================\n",
            " conv2d (Conv2D)             (None, 148, 148, 32)      896       \n",
            "                                                                 \n",
            " max_pooling2d (MaxPooling2D  (None, 74, 74, 32)       0         \n",
            " )                                                               \n",
            "                                                                 \n",
            " conv2d_1 (Conv2D)           (None, 72, 72, 64)        18496     \n",
            "                                                                 \n",
            " max_pooling2d_1 (MaxPooling  (None, 36, 36, 64)       0         \n",
            " 2D)                                                             \n",
            "                                                                 \n",
            " dropout (Dropout)           (None, 36, 36, 64)        0         \n",
            "                                                                 \n",
            " conv2d_2 (Conv2D)           (None, 34, 34, 128)       73856     \n",
            "                                                                 \n",
            " max_pooling2d_2 (MaxPooling  (None, 17, 17, 128)      0         \n",
            " 2D)                                                             \n",
            "                                                                 \n",
            " dropout_1 (Dropout)         (None, 17, 17, 128)       0         \n",
            "                                                                 \n",
            " conv2d_3 (Conv2D)           (None, 15, 15, 256)       295168    \n",
            "                                                                 \n",
            " max_pooling2d_3 (MaxPooling  (None, 7, 7, 256)        0         \n",
            " 2D)                                                             \n",
            "                                                                 \n",
            " dropout_2 (Dropout)         (None, 7, 7, 256)         0         \n",
            "                                                                 \n",
            " conv2d_4 (Conv2D)           (None, 7, 7, 512)         131584    \n",
            "                                                                 \n",
            " flatten (Flatten)           (None, 25088)             0         \n",
            "                                                                 \n",
            " dropout_3 (Dropout)         (None, 25088)             0         \n",
            "                                                                 \n",
            " dense (Dense)               (None, 120)               3010680   \n",
            "                                                                 \n",
            " dense_1 (Dense)             (None, 2)                 242       \n",
            "                                                                 \n",
            "=================================================================\n",
            "Total params: 3,530,922\n",
            "Trainable params: 3,530,922\n",
            "Non-trainable params: 0\n",
            "_________________________________________________________________\n"
          ]
        }
      ],
      "source": [
        "model = Sequential()\n",
        "\n",
        "model.add(Conv2D(32, (3,3), input_shape=(linhas, colunas, canais), activation='relu'))\n",
        "model.add(MaxPooling2D(pool_size = (2,2)))\n",
        "\n",
        "model.add(Conv2D(64, (3,3), activation='relu'))\n",
        "model.add(MaxPooling2D(pool_size = (2,2)))\n",
        "model.add(Dropout(0.4))\n",
        "\n",
        "model.add(Conv2D(128, (3,3), activation='relu'))\n",
        "model.add(MaxPooling2D(pool_size = (2,2)))\n",
        "model.add(Dropout(0.4))\n",
        "\n",
        "model.add(Conv2D(256, (3,3), activation='relu'))\n",
        "model.add(MaxPooling2D(pool_size = (2,2)))\n",
        "model.add(Dropout(0.4))\n",
        "\n",
        "model.add(Conv2D(512, (1,1), activation='relu'))\n",
        "#model.add(MaxPooling2D(pool_size = (2,2)))\n",
        "\n",
        "model.add(Flatten())\n",
        "model.add(Dropout(0.4))\n",
        "\n",
        "model.add(Dense(units=120, activation='relu'))\n",
        "model.add(Dense(units=2, activation='sigmoid'))\n",
        "\n",
        "model.compile(optimizer='adam', loss='binary_crossentropy', metrics=['accuracy'])\n",
        "model.summary()"
      ]
    },
    {
      "cell_type": "code",
      "execution_count": null,
      "metadata": {
        "colab": {
          "base_uri": "https://localhost:8080/"
        },
        "id": "ifiMhmGjC9mH",
        "outputId": "76046d88-50b8-41b4-985f-fc813b98f8b3"
      },
      "outputs": [
        {
          "output_type": "stream",
          "name": "stdout",
          "text": [
            "Epoch 1/50\n",
            "47/47 [==============================] - 26s 239ms/step - loss: 0.6674 - accuracy: 0.6681 - val_loss: 0.6520 - val_accuracy: 0.6644\n",
            "Epoch 2/50\n",
            "47/47 [==============================] - 9s 191ms/step - loss: 0.6094 - accuracy: 0.6769 - val_loss: 0.6238 - val_accuracy: 0.6644\n",
            "Epoch 3/50\n",
            "47/47 [==============================] - 9s 192ms/step - loss: 0.5939 - accuracy: 0.6769 - val_loss: 0.6350 - val_accuracy: 0.6644\n",
            "Epoch 4/50\n",
            "47/47 [==============================] - 9s 192ms/step - loss: 0.5851 - accuracy: 0.6835 - val_loss: 0.6062 - val_accuracy: 0.6644\n",
            "Epoch 5/50\n",
            "47/47 [==============================] - 9s 192ms/step - loss: 0.5648 - accuracy: 0.6993 - val_loss: 0.5745 - val_accuracy: 0.6793\n",
            "Epoch 6/50\n",
            "47/47 [==============================] - 9s 190ms/step - loss: 0.5484 - accuracy: 0.7175 - val_loss: 0.5700 - val_accuracy: 0.6861\n",
            "Epoch 7/50\n",
            "47/47 [==============================] - 9s 194ms/step - loss: 0.5327 - accuracy: 0.7287 - val_loss: 0.5633 - val_accuracy: 0.7226\n",
            "Epoch 8/50\n",
            "47/47 [==============================] - 9s 192ms/step - loss: 0.5199 - accuracy: 0.7343 - val_loss: 0.5979 - val_accuracy: 0.6387\n",
            "Epoch 9/50\n",
            "47/47 [==============================] - 9s 191ms/step - loss: 0.5017 - accuracy: 0.7566 - val_loss: 0.5500 - val_accuracy: 0.7240\n",
            "Epoch 10/50\n",
            "47/47 [==============================] - 9s 190ms/step - loss: 0.4774 - accuracy: 0.7720 - val_loss: 0.5001 - val_accuracy: 0.7686\n",
            "Epoch 11/50\n",
            "47/47 [==============================] - 9s 192ms/step - loss: 0.4697 - accuracy: 0.7752 - val_loss: 0.4906 - val_accuracy: 0.7659\n",
            "Epoch 12/50\n",
            "47/47 [==============================] - 9s 192ms/step - loss: 0.4501 - accuracy: 0.7860 - val_loss: 0.5281 - val_accuracy: 0.7212\n",
            "Epoch 13/50\n",
            "47/47 [==============================] - 9s 191ms/step - loss: 0.4305 - accuracy: 0.7969 - val_loss: 0.4536 - val_accuracy: 0.7821\n",
            "Epoch 14/50\n",
            "47/47 [==============================] - 9s 193ms/step - loss: 0.4053 - accuracy: 0.8160 - val_loss: 0.5040 - val_accuracy: 0.7754\n",
            "Epoch 15/50\n",
            "47/47 [==============================] - 9s 191ms/step - loss: 0.3949 - accuracy: 0.8212 - val_loss: 0.4013 - val_accuracy: 0.8078\n",
            "Epoch 16/50\n",
            "47/47 [==============================] - 9s 192ms/step - loss: 0.3639 - accuracy: 0.8371 - val_loss: 0.5087 - val_accuracy: 0.7321\n",
            "Epoch 17/50\n",
            "47/47 [==============================] - 9s 191ms/step - loss: 0.3525 - accuracy: 0.8471 - val_loss: 0.4033 - val_accuracy: 0.8173\n",
            "Epoch 18/50\n",
            "47/47 [==============================] - 9s 191ms/step - loss: 0.3283 - accuracy: 0.8579 - val_loss: 0.3700 - val_accuracy: 0.8281\n",
            "Epoch 19/50\n",
            "47/47 [==============================] - 9s 191ms/step - loss: 0.3193 - accuracy: 0.8603 - val_loss: 0.3786 - val_accuracy: 0.8390\n",
            "Epoch 20/50\n",
            "47/47 [==============================] - 9s 192ms/step - loss: 0.2877 - accuracy: 0.8738 - val_loss: 0.3699 - val_accuracy: 0.8444\n",
            "Epoch 21/50\n",
            "47/47 [==============================] - 9s 190ms/step - loss: 0.2725 - accuracy: 0.8833 - val_loss: 0.3662 - val_accuracy: 0.8363\n",
            "Epoch 22/50\n",
            "47/47 [==============================] - 9s 190ms/step - loss: 0.2490 - accuracy: 0.8983 - val_loss: 0.5676 - val_accuracy: 0.7280\n",
            "Epoch 23/50\n",
            "47/47 [==============================] - 9s 191ms/step - loss: 0.2474 - accuracy: 0.8982 - val_loss: 0.4066 - val_accuracy: 0.8092\n",
            "Epoch 24/50\n",
            "47/47 [==============================] - 9s 191ms/step - loss: 0.2291 - accuracy: 0.9026 - val_loss: 0.3583 - val_accuracy: 0.8552\n",
            "Epoch 25/50\n",
            "47/47 [==============================] - 9s 192ms/step - loss: 0.2214 - accuracy: 0.9065 - val_loss: 0.4936 - val_accuracy: 0.7862\n",
            "Epoch 26/50\n",
            "47/47 [==============================] - 9s 192ms/step - loss: 0.2037 - accuracy: 0.9180 - val_loss: 0.3198 - val_accuracy: 0.8620\n",
            "Epoch 27/50\n",
            "47/47 [==============================] - 9s 192ms/step - loss: 0.1870 - accuracy: 0.9235 - val_loss: 0.3430 - val_accuracy: 0.8457\n",
            "Epoch 28/50\n",
            "47/47 [==============================] - 9s 191ms/step - loss: 0.1878 - accuracy: 0.9276 - val_loss: 0.3549 - val_accuracy: 0.8579\n",
            "Epoch 29/50\n",
            "47/47 [==============================] - 9s 192ms/step - loss: 0.1551 - accuracy: 0.9369 - val_loss: 0.4140 - val_accuracy: 0.8295\n",
            "Epoch 30/50\n",
            "47/47 [==============================] - 9s 191ms/step - loss: 0.1643 - accuracy: 0.9356 - val_loss: 0.4666 - val_accuracy: 0.8133\n",
            "Epoch 31/50\n",
            "47/47 [==============================] - 9s 192ms/step - loss: 0.1501 - accuracy: 0.9391 - val_loss: 0.3371 - val_accuracy: 0.8660\n",
            "Epoch 32/50\n",
            "47/47 [==============================] - 9s 191ms/step - loss: 0.1334 - accuracy: 0.9471 - val_loss: 0.3364 - val_accuracy: 0.8647\n",
            "Epoch 33/50\n",
            "47/47 [==============================] - 9s 197ms/step - loss: 0.1221 - accuracy: 0.9550 - val_loss: 0.3715 - val_accuracy: 0.8769\n",
            "Epoch 34/50\n",
            "47/47 [==============================] - 10s 205ms/step - loss: 0.1149 - accuracy: 0.9540 - val_loss: 0.4830 - val_accuracy: 0.8200\n",
            "Epoch 35/50\n",
            "47/47 [==============================] - 9s 191ms/step - loss: 0.1094 - accuracy: 0.9575 - val_loss: 0.3520 - val_accuracy: 0.8714\n",
            "Epoch 36/50\n",
            "47/47 [==============================] - 9s 202ms/step - loss: 0.1046 - accuracy: 0.9599 - val_loss: 0.4868 - val_accuracy: 0.8403\n",
            "Epoch 37/50\n",
            "47/47 [==============================] - 9s 195ms/step - loss: 0.0954 - accuracy: 0.9638 - val_loss: 0.4234 - val_accuracy: 0.8484\n",
            "Epoch 38/50\n",
            "47/47 [==============================] - 9s 192ms/step - loss: 0.1136 - accuracy: 0.9538 - val_loss: 0.3843 - val_accuracy: 0.8633\n",
            "Epoch 39/50\n",
            "47/47 [==============================] - 9s 192ms/step - loss: 0.0963 - accuracy: 0.9606 - val_loss: 0.4046 - val_accuracy: 0.8660\n",
            "Epoch 40/50\n",
            "47/47 [==============================] - 9s 192ms/step - loss: 0.0964 - accuracy: 0.9635 - val_loss: 0.3908 - val_accuracy: 0.8687\n",
            "Epoch 41/50\n",
            "47/47 [==============================] - 9s 192ms/step - loss: 0.0903 - accuracy: 0.9652 - val_loss: 0.4227 - val_accuracy: 0.8512\n",
            "Epoch 42/50\n",
            "47/47 [==============================] - 9s 191ms/step - loss: 0.0712 - accuracy: 0.9745 - val_loss: 0.4571 - val_accuracy: 0.8714\n",
            "Epoch 43/50\n",
            "47/47 [==============================] - 9s 192ms/step - loss: 0.0738 - accuracy: 0.9728 - val_loss: 0.4607 - val_accuracy: 0.8512\n",
            "Epoch 44/50\n",
            "47/47 [==============================] - 9s 193ms/step - loss: 0.0705 - accuracy: 0.9707 - val_loss: 0.4626 - val_accuracy: 0.8674\n",
            "Epoch 45/50\n",
            "47/47 [==============================] - 9s 192ms/step - loss: 0.0676 - accuracy: 0.9743 - val_loss: 0.5220 - val_accuracy: 0.8390\n",
            "Epoch 46/50\n",
            "47/47 [==============================] - 9s 192ms/step - loss: 0.0753 - accuracy: 0.9706 - val_loss: 0.4088 - val_accuracy: 0.8687\n",
            "Epoch 47/50\n",
            "47/47 [==============================] - 9s 193ms/step - loss: 0.0579 - accuracy: 0.9790 - val_loss: 0.4532 - val_accuracy: 0.8728\n",
            "Epoch 48/50\n",
            "47/47 [==============================] - 9s 192ms/step - loss: 0.0554 - accuracy: 0.9790 - val_loss: 0.5093 - val_accuracy: 0.8687\n",
            "Epoch 49/50\n",
            "47/47 [==============================] - 9s 191ms/step - loss: 0.0748 - accuracy: 0.9721 - val_loss: 0.4237 - val_accuracy: 0.8674\n",
            "Epoch 50/50\n",
            "47/47 [==============================] - 9s 190ms/step - loss: 0.0720 - accuracy: 0.9719 - val_loss: 0.6030 - val_accuracy: 0.8119\n"
          ]
        }
      ],
      "source": [
        "history = model.fit(X_train_norm, y_train_one_hot, validation_data=(X_val_norm, y_val_one_hot), epochs=50, batch_size=128)\n"
      ]
    },
    {
      "cell_type": "code",
      "execution_count": null,
      "metadata": {
        "colab": {
          "base_uri": "https://localhost:8080/",
          "height": 295
        },
        "id": "g6eXlj1DFeXr",
        "outputId": "32b21a2a-ac7d-4c73-dcf7-314affadc0ff"
      },
      "outputs": [
        {
          "output_type": "display_data",
          "data": {
            "image/png": "[encoded data removed]",
            "text/plain": [
              "<Figure size 432x288 with 1 Axes>"
            ]
          },
          "metadata": {
            "needs_background": "light"
          }
        }
      ],
      "source": [
        "plt.plot(history.history['accuracy'])\n",
        "plt.plot(history.history['val_accuracy'])\n",
        "plt.title('Model accuracy')\n",
        "plt.ylabel('Accuracy')\n",
        "plt.xlabel('Epoch')\n",
        "plt.legend(['Train', 'Test'], loc='upper left')\n",
        "plt.show()"
      ]
    },
    {
      "cell_type": "code",
      "execution_count": null,
      "metadata": {
        "colab": {
          "base_uri": "https://localhost:8080/",
          "height": 545
        },
        "id": "2TTiktS3t0x_",
        "outputId": "73f08709-ce26-4b75-9da7-f811c693d60d"
      },
      "outputs": [
        {
          "output_type": "display_data",
          "data": {
            "image/png": "[encoded data removed]",
            "text/plain": [
              "<Figure size 432x288 with 1 Axes>"
            ]
          },
          "metadata": {
            "needs_background": "light"
          }
        },
        {
          "output_type": "display_data",
          "data": {
            "image/png": "[encoded data removed]",
            "text/plain": [
              "<Figure size 432x288 with 1 Axes>"
            ]
          },
          "metadata": {
            "needs_background": "light"
          }
        }
      ],
      "source": [
        "acc = history.history['accuracy']\n",
        "val_acc = history.history['val_accuracy']\n",
        "epochs = range(len(acc))\n",
        "\n",
        "plt.plot(epochs, acc, 'b', label='Training Accuracy')\n",
        "plt.plot(epochs, val_acc, 'r', label='Validation Accuracy')\n",
        "plt.title('Accuracy Graph')\n",
        "plt.legend()\n",
        "plt.figure()\n",
        "\n",
        "loss = history.history['loss']\n",
        "val_loss = history.history['val_loss']\n",
        "plt.plot(epochs, loss, 'b', label='Training Loss')\n",
        "plt.plot(epochs, val_loss, 'r', label='Validation Loss')\n",
        "plt.title('Loss Graph')\n",
        "plt.legend()\n",
        "plt.show()"
      ]
    }
  ],
  "metadata": {
    "accelerator": "GPU",
    "colab": {
      "collapsed_sections": [],
      "name": "CatsNDgos_CNN _Model2.ipynb",
      "provenance": [],
      "include_colab_link": true
    },
    "kernelspec": {
      "display_name": "Python 3",
      "name": "python3"
    },
    "language_info": {
      "name": "python"
    }
  },
  "nbformat": 4,
  "nbformat_minor": 0
}