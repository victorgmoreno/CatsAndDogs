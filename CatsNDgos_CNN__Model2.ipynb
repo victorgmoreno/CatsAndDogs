{
  "cells": [
    {
      "cell_type": "markdown",
      "metadata": {
        "id": "view-in-github",
        "colab_type": "text"
      },
      "source": [
        "<a href=\"https://colab.research.google.com/github/victorgmoreno/CatsAndDogs/blob/main/CatsNDgos_CNN__Model2.ipynb\" target=\"_parent\"><img src=\"https://colab.research.google.com/assets/colab-badge.svg\" alt=\"Open In Colab\"/></a>"
      ]
    },
    {
      "cell_type": "markdown",
      "metadata": {
        "id": "yk70WgDr8tah"
      },
      "source": [
        "# **1. Importando as bibliotecas e pacotes que serão usadas no projeto**"
      ]
    },
    {
      "cell_type": "code",
      "execution_count": 1,
      "metadata": {
        "id": "n5IPcZlO5Lc9"
      },
      "outputs": [],
      "source": [
        "# Importando as bibliotecas necessárias para dados, processamento e machine learning\n",
        "#  !pip install sklearn\n",
        "#  !pip install np_utils\n",
        "#  !pip install tensorflow as tf\n",
        "\n",
        "import os, cv2, itertools #\n",
        "import numpy as np \n",
        "import pandas as pd \n",
        "import tensorflow as tf\n",
        "import matplotlib.pyplot as plt \n",
        "import sklearn\n",
        "%matplotlib inline\n",
        "\n",
        "from tensorflow.keras.utils import Sequence\n",
        "from sklearn.model_selection import train_test_split\n",
        "from tensorflow.python.keras.utils.vis_utils import plot_model\n",
        "from keras.utils.np_utils import to_categorical\n",
        "from keras.models import Sequential\n",
        "from keras.layers import Conv2D\n",
        "from keras.layers import MaxPooling2D\n",
        "from keras.layers import Flatten\n",
        "from keras.layers import Dense\n",
        "from keras.layers import Dropout\n",
        "from sklearn.utils import shuffle\n",
        "from sklearn.model_selection import train_test_split"
      ]
    },
    {
      "cell_type": "markdown",
      "metadata": {
        "id": "jt-BxIKP-1Zt"
      },
      "source": [
        ""
      ]
    },
    {
      "cell_type": "markdown",
      "metadata": {
        "id": "fnHKucCR9uAP"
      },
      "source": [
        "# **2. Fazendo download dos arquviso do dataset**"
      ]
    },
    {
      "cell_type": "code",
      "execution_count": null,
      "metadata": {
        "id": "u3nWSYi09xcK"
      },
      "outputs": [],
      "source": [
        "# Procedimento para extração do dataset que está no kaggle\n",
        "\n",
        "! pip install kaggle\n",
        "! mkdir ~/.kaggle\n",
        "! cp kaggle.json ~/.kaggle/\n",
        "! chmod 600 ~/.kaggle/kaggle.json\n",
        "\n",
        "# Acessando a URL do kaggle para download\n",
        "! kaggle datasets download -d zippyz/cats-and-dogs-breeds-classification-oxford-dataset\n",
        "\n",
        "# Descompactando o dataset\n",
        "! unzip cats-and-dogs-breeds-classification-oxford-dataset"
      ]
    },
    {
      "cell_type": "markdown",
      "metadata": {
        "id": "N7eNxyeV-L3C"
      },
      "source": [
        "# **3. Organizando os dados**"
      ]
    },
    {
      "cell_type": "code",
      "execution_count": 3,
      "metadata": {
        "colab": {
          "base_uri": "https://localhost:8080/"
        },
        "id": "dB11zPNf-OCN",
        "outputId": "4b899b14-89fe-4eb2-bebc-696aee24778e"
      },
      "outputs": [
        {
          "output_type": "stream",
          "name": "stdout",
          "text": [
            "A quantidade de diretórios de imagens acessados é: 7390\n"
          ]
        }
      ],
      "source": [
        "# Transformando os diretorios de cada imagem em uma lista de diretorios\n",
        "\n",
        "imageDiretorio = os.listdir('/content/images/images')\n",
        "\n",
        "# Alguns arquivos no dataset não estão no formato JPG, para sanar isso:\n",
        "\n",
        "\n",
        "imageDiretorio = ([image for image in imageDiretorio if image.split('.')[-1] == 'jpg'])\n",
        "\n",
        "print(\"A quantidade de diretórios de imagens acessados é:\", len(imageDiretorio))\n",
        "\n",
        "# Para começar a organizar os dados, precisa-se criar algumas variáveis globais\n",
        "\n",
        "canais = 3\n",
        "linhas = 140\n",
        "colunas = 140\n",
        "size = (linhas, colunas)"
      ]
    },
    {
      "cell_type": "code",
      "execution_count": null,
      "metadata": {
        "id": "DwFUdM3uBNNh"
      },
      "outputs": [],
      "source": [
        "print(imageDiretorio)"
      ]
    },
    {
      "cell_type": "code",
      "execution_count": 5,
      "metadata": {
        "id": "qLCPSKr8BEDr"
      },
      "outputs": [],
      "source": [
        "# imageDiretorio = shuffle(imageDiretorio)"
      ]
    },
    {
      "cell_type": "code",
      "execution_count": 6,
      "metadata": {
        "id": "rjfOcKNgBRAi"
      },
      "outputs": [],
      "source": [
        "# print(imageDiretorio)"
      ]
    },
    {
      "cell_type": "code",
      "execution_count": 7,
      "metadata": {
        "id": "ovFv4syp-qah"
      },
      "outputs": [],
      "source": [
        "# Agora, separaremos as imagens de gatos e de cachorros para a máquina\n",
        "gatosDiretorio = []\n",
        "cachorrosDiretorio = []\n",
        "\n",
        "for i in range(0, len(imageDiretorio)):\n",
        "  if imageDiretorio[i][0].isupper():\n",
        "    gatosDiretorio.append(imageDiretorio[i])\n",
        "  else:\n",
        "    cachorrosDiretorio.append(imageDiretorio[i])"
      ]
    },
    {
      "cell_type": "code",
      "execution_count": 8,
      "metadata": {
        "id": "2BmaD6Bk-tGC"
      },
      "outputs": [],
      "source": [
        "ygatos = np.zeros(len(gatosDiretorio), dtype=int)\n",
        "ycachorros = np.ones(len(cachorrosDiretorio), dtype=int)\n",
        "X_train = gatosDiretorio+cachorrosDiretorio\n",
        "Y_train = np.concatenate((ygatos, ycachorros))\n",
        "# GATOS = 0 E CACHORRO = 1"
      ]
    },
    {
      "cell_type": "markdown",
      "metadata": {
        "id": "eGOxRZRKBG54"
      },
      "source": [
        "# **4. Pré processamento**"
      ]
    },
    {
      "cell_type": "code",
      "execution_count": 9,
      "metadata": {
        "id": "SIbvHk4s-u2j"
      },
      "outputs": [],
      "source": [
        "# Criando uma função para visualizar as imagens, quando quisermos\n",
        "# ! pip install Pillow\n",
        "\n",
        "import cv2\n",
        "import matplotlib.pyplot as plt\n",
        "import PIL.Image\n",
        "\n",
        "def read_image(file_path):\n",
        "  rgba_image = PIL.Image.open(\"/content/images/images/\" + file_path)\n",
        "  rgb_image = rgba_image.convert('RGB')\n",
        "  rgb_image = np.array(rgb_image)\n",
        "  return cv2.resize(rgb_image, size, interpolation=cv2.INTER_CUBIC)"
      ]
    },
    {
      "cell_type": "code",
      "execution_count": 10,
      "metadata": {
        "id": "tjlQP7S2DtKZ"
      },
      "outputs": [],
      "source": [
        "def prep_data(images):\n",
        "  m = len(images)\n",
        "  n_x = linhas*colunas*canais\n",
        "  \n",
        "\n",
        "  X = np.ndarray((m, linhas, colunas, canais), dtype=np.uint8)\n",
        "  y = np.zeros((m,1))\n",
        "  print(\"X.shape is {}\".format(X.shape))\n",
        "  \n",
        "  for i,image_file in enumerate(images) :\n",
        "    image = read_image(image_file)\n",
        "    X[i,:] = np.squeeze(image.reshape((linhas, colunas, canais)))\n",
        "    if imageDiretorio[i][0].isupper():\n",
        "      y[i,0] = 0  # cat\n",
        "    else:\n",
        "      y[i,0] = 1  # dog\n",
        "    \n",
        "  return X,y"
      ]
    },
    {
      "cell_type": "code",
      "execution_count": 11,
      "metadata": {
        "colab": {
          "base_uri": "https://localhost:8080/"
        },
        "id": "j1Gf6fb-J7Is",
        "outputId": "f8c939da-f8e0-4af9-8fcd-7f231a9d4b37"
      },
      "outputs": [
        {
          "output_type": "stream",
          "name": "stdout",
          "text": [
            "X.shape is (7390, 140, 140, 3)\n"
          ]
        }
      ],
      "source": [
        "\n",
        "X_train, y_train = prep_data(imageDiretorio)"
      ]
    },
    {
      "cell_type": "code",
      "execution_count": 12,
      "metadata": {
        "id": "djY10hRdt5wJ"
      },
      "outputs": [],
      "source": [
        "# Separando os arquivos para treino. Ele totaliza 80% das imagens.\n",
        "X_train, X_test, y_train, test_idx = train_test_split(X_train, y_train, test_size = 0.2, random_state = 1)  #80% of dataset will be used for training"
      ]
    },
    {
      "cell_type": "code",
      "execution_count": 13,
      "metadata": {
        "id": "fMTFW4_q_odU"
      },
      "outputs": [],
      "source": [
        "# Separando os arquivos para teste e validação. Eles totalizam 20% das imagens, 10% cada um. \n",
        "X_test, X_val, y_test, y_val = train_test_split(X_test, test_idx , test_size = 0.5, random_state = 1)  #42% of dataset will be used for test and validation"
      ]
    },
    {
      "cell_type": "code",
      "execution_count": 14,
      "metadata": {
        "colab": {
          "base_uri": "https://localhost:8080/"
        },
        "id": "nTi8nvF3vv8t",
        "outputId": "3ec1cdd1-07b8-47ee-99d8-a7dc7208bbf3"
      },
      "outputs": [
        {
          "output_type": "stream",
          "name": "stdout",
          "text": [
            "5912\n",
            "X_train.shape is (5912, 140, 140, 3)\n",
            "5912\n",
            "y_train.shape is (5912, 1)\n",
            "739\n",
            "X_test.shape is (739, 140, 140, 3)\n",
            "739\n",
            "y_test.shape is (739, 1)\n",
            "739\n",
            "X_val.shape is (739, 140, 140, 3)\n",
            "739\n",
            "y_val.shape is (739, 1)\n"
          ]
        }
      ],
      "source": [
        "print(len(X_train))\n",
        "print(\"X_train.shape is {}\".format(X_train.shape))\n",
        "print(len(y_train))\n",
        "print(\"y_train.shape is {}\".format(y_train.shape))\n",
        "\n",
        "print(len(X_test))\n",
        "print(\"X_test.shape is {}\".format(X_test.shape))\n",
        "print(len(y_test))\n",
        "print(\"y_test.shape is {}\".format(y_test.shape))\n",
        "\n",
        "print(len(X_val))\n",
        "print(\"X_val.shape is {}\".format(X_val.shape))\n",
        "print(len(y_val))\n",
        "print(\"y_val.shape is {}\".format(y_val.shape))\n"
      ]
    },
    {
      "cell_type": "code",
      "execution_count": 15,
      "metadata": {
        "id": "CaEeFqkFBwv3"
      },
      "outputs": [],
      "source": [
        "classes = {0: 'gatos',\n",
        "           1: 'cachorros'}"
      ]
    },
    {
      "cell_type": "code",
      "execution_count": 16,
      "metadata": {
        "colab": {
          "base_uri": "https://localhost:8080/"
        },
        "id": "YorQ_kjuB64L",
        "outputId": "17e06876-0c63-497c-fba3-a45644a86d5a"
      },
      "outputs": [
        {
          "output_type": "stream",
          "name": "stdout",
          "text": [
            "(5912, 2)\n",
            "2\n",
            "(739, 2)\n"
          ]
        }
      ],
      "source": [
        "y_train_one_hot = to_categorical(y_train)\n",
        "print(y_train_one_hot.shape)\n",
        "\n",
        "num_classes = y_train_one_hot.shape[1]\n",
        "print(num_classes)\n",
        "\n",
        "y_val_one_hot = to_categorical(y_val)\n",
        "print(y_val_one_hot.shape)"
      ]
    },
    {
      "cell_type": "code",
      "execution_count": 17,
      "metadata": {
        "id": "AWK3-3qUCLNG"
      },
      "outputs": [],
      "source": [
        "def show_images(X, y, idx) :\n",
        "  image = X[idx]\n",
        "  #image = image.reshape((ROWS, COLS, CHANNELS))\n",
        "  plt.figure(figsize=(4,2))\n",
        "  plt.imshow(image)\n",
        "  plt.title(\"This is a {}\".format(classes[y[idx,0]]))\n",
        "  plt.show()"
      ]
    },
    {
      "cell_type": "code",
      "execution_count": 18,
      "metadata": {
        "colab": {
          "base_uri": "https://localhost:8080/",
          "height": 173
        },
        "id": "UELMOCHjCOcP",
        "outputId": "e43a4772-b679-4b53-c18f-3157e704d3de"
      },
      "outputs": [
        {
          "output_type": "display_data",
          "data": {
            "image/png": "[encoded data removed]",
            "text/plain": [
              "<Figure size 288x144 with 1 Axes>"
            ]
          },
          "metadata": {
            "needs_background": "light"
          }
        }
      ],
      "source": [
        "show_images(X_train, y_train, 545)"
      ]
    },
    {
      "cell_type": "code",
      "execution_count": 19,
      "metadata": {
        "id": "ZBnz6tKhCZTg"
      },
      "outputs": [],
      "source": [
        "X_train_norm = X_train / 255\n",
        "X_val_norm = X_val / 255"
      ]
    },
    {
      "cell_type": "code",
      "execution_count": 20,
      "metadata": {
        "colab": {
          "base_uri": "https://localhost:8080/"
        },
        "id": "tXzYBLa0Cao0",
        "outputId": "4f08be01-5f33-42cc-d7cc-378894e58121"
      },
      "outputs": [
        {
          "output_type": "stream",
          "name": "stdout",
          "text": [
            "Model: \"sequential\"\n",
            "_________________________________________________________________\n",
            " Layer (type)                Output Shape              Param #   \n",
            "=================================================================\n",
            " conv2d (Conv2D)             (None, 138, 138, 32)      896       \n",
            "                                                                 \n",
            " max_pooling2d (MaxPooling2D  (None, 69, 69, 32)       0         \n",
            " )                                                               \n",
            "                                                                 \n",
            " conv2d_1 (Conv2D)           (None, 67, 67, 64)        18496     \n",
            "                                                                 \n",
            " max_pooling2d_1 (MaxPooling  (None, 33, 33, 64)       0         \n",
            " 2D)                                                             \n",
            "                                                                 \n",
            " dropout (Dropout)           (None, 33, 33, 64)        0         \n",
            "                                                                 \n",
            " conv2d_2 (Conv2D)           (None, 31, 31, 128)       73856     \n",
            "                                                                 \n",
            " max_pooling2d_2 (MaxPooling  (None, 15, 15, 128)      0         \n",
            " 2D)                                                             \n",
            "                                                                 \n",
            " dropout_1 (Dropout)         (None, 15, 15, 128)       0         \n",
            "                                                                 \n",
            " conv2d_3 (Conv2D)           (None, 13, 13, 128)       147584    \n",
            "                                                                 \n",
            " max_pooling2d_3 (MaxPooling  (None, 6, 6, 128)        0         \n",
            " 2D)                                                             \n",
            "                                                                 \n",
            " dropout_2 (Dropout)         (None, 6, 6, 128)         0         \n",
            "                                                                 \n",
            " conv2d_4 (Conv2D)           (None, 6, 6, 512)         66048     \n",
            "                                                                 \n",
            " flatten (Flatten)           (None, 18432)             0         \n",
            "                                                                 \n",
            " dropout_3 (Dropout)         (None, 18432)             0         \n",
            "                                                                 \n",
            " dense (Dense)               (None, 120)               2211960   \n",
            "                                                                 \n",
            " dense_1 (Dense)             (None, 2)                 242       \n",
            "                                                                 \n",
            "=================================================================\n",
            "Total params: 2,519,082\n",
            "Trainable params: 2,519,082\n",
            "Non-trainable params: 0\n",
            "_________________________________________________________________\n"
          ]
        }
      ],
      "source": [
        "model = Sequential()\n",
        "\n",
        "model.add(Conv2D(32, (3,3), input_shape=(linhas, colunas, canais), activation='relu'))\n",
        "model.add(MaxPooling2D(pool_size = (2,2)))\n",
        "\n",
        "model.add(Conv2D(64, (3,3), activation='relu'))\n",
        "model.add(MaxPooling2D(pool_size = (2,2)))\n",
        "model.add(Dropout(0.5))\n",
        "\n",
        "model.add(Conv2D(128, (3,3), activation='relu'))\n",
        "model.add(MaxPooling2D(pool_size = (2,2)))\n",
        "model.add(Dropout(0.5))\n",
        "\n",
        "model.add(Conv2D(128, (3,3), activation='relu'))\n",
        "model.add(MaxPooling2D(pool_size = (2,2)))\n",
        "model.add(Dropout(0.5))\n",
        "\n",
        "model.add(Conv2D(512, (1,1), activation='relu'))\n",
        "#model.add(MaxPooling2D(pool_size = (2,2)))\n",
        "\n",
        "model.add(Flatten())\n",
        "model.add(Dropout(0.5))\n",
        "\n",
        "model.add(Dense(units=120, activation='relu'))\n",
        "model.add(Dense(units=2, activation='sigmoid'))\n",
        "\n",
        "model.compile(optimizer='adam', loss='binary_crossentropy', metrics=['accuracy'])\n",
        "model.summary()"
      ]
    },
    {
      "cell_type": "code",
      "execution_count": 21,
      "metadata": {
        "colab": {
          "base_uri": "https://localhost:8080/"
        },
        "id": "ifiMhmGjC9mH",
        "outputId": "d3f169a9-4a96-4e07-e322-5a5d1adcbd82"
      },
      "outputs": [
        {
          "output_type": "stream",
          "name": "stdout",
          "text": [
            "Epoch 1/50\n",
            "47/47 [==============================] - 19s 116ms/step - loss: 0.6678 - accuracy: 0.6629 - val_loss: 0.6322 - val_accuracy: 0.6644\n",
            "Epoch 2/50\n",
            "47/47 [==============================] - 4s 84ms/step - loss: 0.6011 - accuracy: 0.6769 - val_loss: 0.6244 - val_accuracy: 0.6644\n",
            "Epoch 3/50\n",
            "47/47 [==============================] - 4s 85ms/step - loss: 0.6065 - accuracy: 0.6771 - val_loss: 0.6092 - val_accuracy: 0.6644\n",
            "Epoch 4/50\n",
            "47/47 [==============================] - 4s 85ms/step - loss: 0.5840 - accuracy: 0.6786 - val_loss: 0.5932 - val_accuracy: 0.6712\n",
            "Epoch 5/50\n",
            "47/47 [==============================] - 4s 84ms/step - loss: 0.5680 - accuracy: 0.6950 - val_loss: 0.5703 - val_accuracy: 0.6982\n",
            "Epoch 6/50\n",
            "47/47 [==============================] - 4s 85ms/step - loss: 0.5462 - accuracy: 0.7202 - val_loss: 0.5520 - val_accuracy: 0.7240\n",
            "Epoch 7/50\n",
            "47/47 [==============================] - 4s 85ms/step - loss: 0.5264 - accuracy: 0.7371 - val_loss: 0.5490 - val_accuracy: 0.7294\n",
            "Epoch 8/50\n",
            "47/47 [==============================] - 4s 85ms/step - loss: 0.5130 - accuracy: 0.7485 - val_loss: 0.5483 - val_accuracy: 0.7348\n",
            "Epoch 9/50\n",
            "47/47 [==============================] - 4s 85ms/step - loss: 0.5045 - accuracy: 0.7552 - val_loss: 0.5848 - val_accuracy: 0.6969\n",
            "Epoch 10/50\n",
            "47/47 [==============================] - 4s 85ms/step - loss: 0.4976 - accuracy: 0.7554 - val_loss: 0.5200 - val_accuracy: 0.7456\n",
            "Epoch 11/50\n",
            "47/47 [==============================] - 4s 84ms/step - loss: 0.4884 - accuracy: 0.7652 - val_loss: 0.5240 - val_accuracy: 0.7524\n",
            "Epoch 12/50\n",
            "47/47 [==============================] - 4s 85ms/step - loss: 0.4728 - accuracy: 0.7722 - val_loss: 0.4910 - val_accuracy: 0.7754\n",
            "Epoch 13/50\n",
            "47/47 [==============================] - 4s 85ms/step - loss: 0.4474 - accuracy: 0.7928 - val_loss: 0.6429 - val_accuracy: 0.6238\n",
            "Epoch 14/50\n",
            "47/47 [==============================] - 4s 84ms/step - loss: 0.4556 - accuracy: 0.7854 - val_loss: 0.4725 - val_accuracy: 0.7848\n",
            "Epoch 15/50\n",
            "47/47 [==============================] - 4s 85ms/step - loss: 0.4146 - accuracy: 0.8078 - val_loss: 0.4463 - val_accuracy: 0.7916\n",
            "Epoch 16/50\n",
            "47/47 [==============================] - 4s 85ms/step - loss: 0.4052 - accuracy: 0.8153 - val_loss: 0.5640 - val_accuracy: 0.7118\n",
            "Epoch 17/50\n",
            "47/47 [==============================] - 4s 86ms/step - loss: 0.4055 - accuracy: 0.8131 - val_loss: 0.4307 - val_accuracy: 0.7848\n",
            "Epoch 18/50\n",
            "47/47 [==============================] - 4s 90ms/step - loss: 0.3888 - accuracy: 0.8178 - val_loss: 0.4195 - val_accuracy: 0.8106\n",
            "Epoch 19/50\n",
            "47/47 [==============================] - 4s 85ms/step - loss: 0.3757 - accuracy: 0.8270 - val_loss: 0.4096 - val_accuracy: 0.8092\n",
            "Epoch 20/50\n",
            "47/47 [==============================] - 4s 85ms/step - loss: 0.3478 - accuracy: 0.8468 - val_loss: 0.3854 - val_accuracy: 0.8295\n",
            "Epoch 21/50\n",
            "47/47 [==============================] - 4s 85ms/step - loss: 0.3521 - accuracy: 0.8471 - val_loss: 0.3940 - val_accuracy: 0.8160\n",
            "Epoch 22/50\n",
            "47/47 [==============================] - 4s 85ms/step - loss: 0.3238 - accuracy: 0.8586 - val_loss: 0.3661 - val_accuracy: 0.8376\n",
            "Epoch 23/50\n",
            "47/47 [==============================] - 4s 85ms/step - loss: 0.3181 - accuracy: 0.8583 - val_loss: 0.3762 - val_accuracy: 0.8322\n",
            "Epoch 24/50\n",
            "47/47 [==============================] - 4s 86ms/step - loss: 0.3134 - accuracy: 0.8616 - val_loss: 0.4010 - val_accuracy: 0.8187\n",
            "Epoch 25/50\n",
            "47/47 [==============================] - 4s 85ms/step - loss: 0.2878 - accuracy: 0.8748 - val_loss: 0.3563 - val_accuracy: 0.8403\n",
            "Epoch 26/50\n",
            "47/47 [==============================] - 4s 86ms/step - loss: 0.2795 - accuracy: 0.8794 - val_loss: 0.3327 - val_accuracy: 0.8539\n",
            "Epoch 27/50\n",
            "47/47 [==============================] - 4s 86ms/step - loss: 0.2658 - accuracy: 0.8894 - val_loss: 0.4722 - val_accuracy: 0.7794\n",
            "Epoch 28/50\n",
            "47/47 [==============================] - 4s 86ms/step - loss: 0.2611 - accuracy: 0.8889 - val_loss: 0.4094 - val_accuracy: 0.8173\n",
            "Epoch 29/50\n",
            "47/47 [==============================] - 4s 86ms/step - loss: 0.2682 - accuracy: 0.8865 - val_loss: 0.3412 - val_accuracy: 0.8579\n",
            "Epoch 30/50\n",
            "47/47 [==============================] - 4s 86ms/step - loss: 0.2334 - accuracy: 0.9017 - val_loss: 0.3892 - val_accuracy: 0.8336\n",
            "Epoch 31/50\n",
            "47/47 [==============================] - 4s 87ms/step - loss: 0.2465 - accuracy: 0.8919 - val_loss: 0.3257 - val_accuracy: 0.8457\n",
            "Epoch 32/50\n",
            "47/47 [==============================] - 4s 87ms/step - loss: 0.2328 - accuracy: 0.9039 - val_loss: 0.3200 - val_accuracy: 0.8593\n",
            "Epoch 33/50\n",
            "47/47 [==============================] - 4s 87ms/step - loss: 0.2295 - accuracy: 0.9027 - val_loss: 0.3391 - val_accuracy: 0.8593\n",
            "Epoch 34/50\n",
            "47/47 [==============================] - 4s 88ms/step - loss: 0.2282 - accuracy: 0.9038 - val_loss: 0.4362 - val_accuracy: 0.8160\n",
            "Epoch 35/50\n",
            "47/47 [==============================] - 4s 85ms/step - loss: 0.2202 - accuracy: 0.9065 - val_loss: 0.3710 - val_accuracy: 0.8336\n",
            "Epoch 36/50\n",
            "47/47 [==============================] - 4s 85ms/step - loss: 0.2112 - accuracy: 0.9105 - val_loss: 0.3149 - val_accuracy: 0.8742\n",
            "Epoch 37/50\n",
            "47/47 [==============================] - 4s 86ms/step - loss: 0.1957 - accuracy: 0.9178 - val_loss: 0.3080 - val_accuracy: 0.8674\n",
            "Epoch 38/50\n",
            "47/47 [==============================] - 4s 85ms/step - loss: 0.2036 - accuracy: 0.9112 - val_loss: 0.3328 - val_accuracy: 0.8512\n",
            "Epoch 39/50\n",
            "47/47 [==============================] - 4s 85ms/step - loss: 0.1961 - accuracy: 0.9222 - val_loss: 0.3665 - val_accuracy: 0.8363\n",
            "Epoch 40/50\n",
            "47/47 [==============================] - 4s 85ms/step - loss: 0.1881 - accuracy: 0.9235 - val_loss: 0.4191 - val_accuracy: 0.8227\n",
            "Epoch 41/50\n",
            "47/47 [==============================] - 4s 86ms/step - loss: 0.1898 - accuracy: 0.9232 - val_loss: 0.3476 - val_accuracy: 0.8512\n",
            "Epoch 42/50\n",
            "47/47 [==============================] - 4s 86ms/step - loss: 0.1944 - accuracy: 0.9203 - val_loss: 0.3367 - val_accuracy: 0.8620\n",
            "Epoch 43/50\n",
            "47/47 [==============================] - 4s 86ms/step - loss: 0.1714 - accuracy: 0.9300 - val_loss: 0.3340 - val_accuracy: 0.8606\n",
            "Epoch 44/50\n",
            "47/47 [==============================] - 4s 86ms/step - loss: 0.1673 - accuracy: 0.9310 - val_loss: 0.3730 - val_accuracy: 0.8457\n",
            "Epoch 45/50\n",
            "47/47 [==============================] - 4s 86ms/step - loss: 0.1768 - accuracy: 0.9266 - val_loss: 0.3345 - val_accuracy: 0.8525\n",
            "Epoch 46/50\n",
            "47/47 [==============================] - 4s 86ms/step - loss: 0.1615 - accuracy: 0.9361 - val_loss: 0.3600 - val_accuracy: 0.8539\n",
            "Epoch 47/50\n",
            "47/47 [==============================] - 4s 85ms/step - loss: 0.1615 - accuracy: 0.9325 - val_loss: 0.3510 - val_accuracy: 0.8701\n",
            "Epoch 48/50\n",
            "47/47 [==============================] - 4s 86ms/step - loss: 0.1469 - accuracy: 0.9403 - val_loss: 0.3823 - val_accuracy: 0.8579\n",
            "Epoch 49/50\n",
            "47/47 [==============================] - 4s 86ms/step - loss: 0.1480 - accuracy: 0.9393 - val_loss: 0.3942 - val_accuracy: 0.8390\n",
            "Epoch 50/50\n",
            "47/47 [==============================] - 4s 85ms/step - loss: 0.1579 - accuracy: 0.9347 - val_loss: 0.3201 - val_accuracy: 0.8687\n"
          ]
        }
      ],
      "source": [
        "history = model.fit(X_train_norm, y_train_one_hot, validation_data=(X_val_norm, y_val_one_hot), epochs=50, batch_size=128)\n"
      ]
    },
    {
      "cell_type": "code",
      "execution_count": 22,
      "metadata": {
        "colab": {
          "base_uri": "https://localhost:8080/",
          "height": 295
        },
        "id": "g6eXlj1DFeXr",
        "outputId": "c6e135d2-2c52-4550-ef94-d85319607031"
      },
      "outputs": [
        {
          "output_type": "display_data",
          "data": {
            "image/png": "[encoded data removed]",
            "text/plain": [
              "<Figure size 432x288 with 1 Axes>"
            ]
          },
          "metadata": {
            "needs_background": "light"
          }
        }
      ],
      "source": [
        "plt.plot(history.history['accuracy'])\n",
        "plt.plot(history.history['val_accuracy'])\n",
        "plt.title('Model accuracy')\n",
        "plt.ylabel('Accuracy')\n",
        "plt.xlabel('Epoch')\n",
        "plt.legend(['Train', 'Test'], loc='upper left')\n",
        "plt.show()"
      ]
    },
    {
      "cell_type": "code",
      "execution_count": 23,
      "metadata": {
        "colab": {
          "base_uri": "https://localhost:8080/",
          "height": 545
        },
        "id": "2TTiktS3t0x_",
        "outputId": "62ad4418-c85a-46a2-a6d3-2f778f5d7910"
      },
      "outputs": [
        {
          "output_type": "display_data",
          "data": {
            "image/png": "[encoded data removed]",
            "text/plain": [
              "<Figure size 432x288 with 1 Axes>"
            ]
          },
          "metadata": {
            "needs_background": "light"
          }
        },
        {
          "output_type": "display_data",
          "data": {
            "image/png": "[encoded data removed]",
            "text/plain": [
              "<Figure size 432x288 with 1 Axes>"
            ]
          },
          "metadata": {
            "needs_background": "light"
          }
        }
      ],
      "source": [
        "acc = history.history['accuracy']\n",
        "val_acc = history.history['val_accuracy']\n",
        "epochs = range(len(acc))\n",
        "\n",
        "plt.plot(epochs, acc, 'b', label='Training Accuracy')\n",
        "plt.plot(epochs, val_acc, 'r', label='Validation Accuracy')\n",
        "plt.title('Accuracy Graph')\n",
        "plt.legend()\n",
        "plt.figure()\n",
        "\n",
        "loss = history.history['loss']\n",
        "val_loss = history.history['val_loss']\n",
        "plt.plot(epochs, loss, 'b', label='Training Loss')\n",
        "plt.plot(epochs, val_loss, 'r', label='Validation Loss')\n",
        "plt.title('Loss Graph')\n",
        "plt.legend()\n",
        "plt.show()"
      ]
    }
  ],
  "metadata": {
    "accelerator": "GPU",
    "colab": {
      "collapsed_sections": [],
      "name": "CatsNDgos_CNN _Model2.ipynb",
      "provenance": [],
      "include_colab_link": true
    },
    "kernelspec": {
      "display_name": "Python 3",
      "name": "python3"
    },
    "language_info": {
      "name": "python"
    }
  },
  "nbformat": 4,
  "nbformat_minor": 0
}